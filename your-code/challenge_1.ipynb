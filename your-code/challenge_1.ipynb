{
  "cells": [
    {
      "cell_type": "markdown",
      "metadata": {
        "id": "vgT2CM5rs9Lq"
      },
      "source": [
        "# Challenge 1 - T-test\n",
        "\n",
        "In statistics, t-test is used to test if two data samples have a significant difference between their means. There are two types of t-test:\n",
        "\n",
        "* **Student's t-test** (a.k.a. independent or uncorrelated t-test). This type of t-test is to compare the samples of **two independent populations** (e.g. test scores of students in two different classes). `scipy` provides the [`ttest_ind`](https://docs.scipy.org/doc/scipy-0.15.1/reference/generated/scipy.stats.ttest_ind.html) method to conduct student's t-test.\n",
        "\n",
        "* **Paired t-test** (a.k.a. dependent or correlated t-test). This type of t-test is to compare the samples of **the same population** (e.g. scores of different tests of students in the same class). `scipy` provides the [`ttest_re`](https://docs.scipy.org/doc/scipy-0.15.1/reference/generated/scipy.stats.ttest_rel.html) method to conduct paired t-test.\n",
        "\n",
        "Both types of t-tests return a number which is called the **p-value**. If p-value is below 0.05, we can confidently declare the null-hypothesis is rejected and the difference is significant. If p-value is between 0.05 and 0.1, we may also declare the null-hypothesis is rejected but we are not highly confident. If p-value is above 0.1 we do not reject the null-hypothesis.\n",
        "\n",
        "Read more about the t-test in [this article](http://b.link/test50) and [this Quora](http://b.link/unpaired97). Make sure you understand when to use which type of t-test."
      ]
    },
    {
      "cell_type": "code",
      "execution_count": 1,
      "metadata": {
        "id": "e1JBfyu_s9Ly"
      },
      "outputs": [],
      "source": [
        "# Import libraries\n",
        "import pandas as pd\n",
        "import numpy as np\n",
        "import scipy.stats as st\n",
        "import matplotlib.pyplot as plt\n",
        "import seaborn as sns"
      ]
    },
    {
      "cell_type": "markdown",
      "metadata": {
        "id": "A4qwKuIFs9L1"
      },
      "source": [
        "#### Import dataset\n",
        "\n",
        "In this challenge we will work on the Pokemon dataset. The goal is to test whether different groups of pokemon (e.g. Legendary vs Normal, Generation 1 vs 2, single-type vs dual-type) have different stats (e.g. HP, Attack, Defense, etc.)."
      ]
    },
    {
      "cell_type": "code",
      "execution_count": 2,
      "metadata": {
        "colab": {
          "base_uri": "https://localhost:8080/",
          "height": 206
        },
        "id": "36bxvFqSs9L1",
        "outputId": "d669247d-fddd-49d7-a8cb-b112a5b298a7"
      },
      "outputs": [
        {
          "output_type": "execute_result",
          "data": {
            "text/plain": [
              "   #                   Name Type 1  Type 2  Total  HP  Attack  Defense  \\\n",
              "0  1              Bulbasaur  Grass  Poison    318  45      49       49   \n",
              "1  2                Ivysaur  Grass  Poison    405  60      62       63   \n",
              "2  3               Venusaur  Grass  Poison    525  80      82       83   \n",
              "3  3  VenusaurMega Venusaur  Grass  Poison    625  80     100      123   \n",
              "4  4             Charmander   Fire     NaN    309  39      52       43   \n",
              "\n",
              "   Sp. Atk  Sp. Def  Speed  Generation  Legendary  \n",
              "0       65       65     45           1      False  \n",
              "1       80       80     60           1      False  \n",
              "2      100      100     80           1      False  \n",
              "3      122      120     80           1      False  \n",
              "4       60       50     65           1      False  "
            ],
            "text/html": [
              "\n",
              "  <div id=\"df-f9a83264-4482-4c7a-8058-848530da8add\" class=\"colab-df-container\">\n",
              "    <div>\n",
              "<style scoped>\n",
              "    .dataframe tbody tr th:only-of-type {\n",
              "        vertical-align: middle;\n",
              "    }\n",
              "\n",
              "    .dataframe tbody tr th {\n",
              "        vertical-align: top;\n",
              "    }\n",
              "\n",
              "    .dataframe thead th {\n",
              "        text-align: right;\n",
              "    }\n",
              "</style>\n",
              "<table border=\"1\" class=\"dataframe\">\n",
              "  <thead>\n",
              "    <tr style=\"text-align: right;\">\n",
              "      <th></th>\n",
              "      <th>#</th>\n",
              "      <th>Name</th>\n",
              "      <th>Type 1</th>\n",
              "      <th>Type 2</th>\n",
              "      <th>Total</th>\n",
              "      <th>HP</th>\n",
              "      <th>Attack</th>\n",
              "      <th>Defense</th>\n",
              "      <th>Sp. Atk</th>\n",
              "      <th>Sp. Def</th>\n",
              "      <th>Speed</th>\n",
              "      <th>Generation</th>\n",
              "      <th>Legendary</th>\n",
              "    </tr>\n",
              "  </thead>\n",
              "  <tbody>\n",
              "    <tr>\n",
              "      <th>0</th>\n",
              "      <td>1</td>\n",
              "      <td>Bulbasaur</td>\n",
              "      <td>Grass</td>\n",
              "      <td>Poison</td>\n",
              "      <td>318</td>\n",
              "      <td>45</td>\n",
              "      <td>49</td>\n",
              "      <td>49</td>\n",
              "      <td>65</td>\n",
              "      <td>65</td>\n",
              "      <td>45</td>\n",
              "      <td>1</td>\n",
              "      <td>False</td>\n",
              "    </tr>\n",
              "    <tr>\n",
              "      <th>1</th>\n",
              "      <td>2</td>\n",
              "      <td>Ivysaur</td>\n",
              "      <td>Grass</td>\n",
              "      <td>Poison</td>\n",
              "      <td>405</td>\n",
              "      <td>60</td>\n",
              "      <td>62</td>\n",
              "      <td>63</td>\n",
              "      <td>80</td>\n",
              "      <td>80</td>\n",
              "      <td>60</td>\n",
              "      <td>1</td>\n",
              "      <td>False</td>\n",
              "    </tr>\n",
              "    <tr>\n",
              "      <th>2</th>\n",
              "      <td>3</td>\n",
              "      <td>Venusaur</td>\n",
              "      <td>Grass</td>\n",
              "      <td>Poison</td>\n",
              "      <td>525</td>\n",
              "      <td>80</td>\n",
              "      <td>82</td>\n",
              "      <td>83</td>\n",
              "      <td>100</td>\n",
              "      <td>100</td>\n",
              "      <td>80</td>\n",
              "      <td>1</td>\n",
              "      <td>False</td>\n",
              "    </tr>\n",
              "    <tr>\n",
              "      <th>3</th>\n",
              "      <td>3</td>\n",
              "      <td>VenusaurMega Venusaur</td>\n",
              "      <td>Grass</td>\n",
              "      <td>Poison</td>\n",
              "      <td>625</td>\n",
              "      <td>80</td>\n",
              "      <td>100</td>\n",
              "      <td>123</td>\n",
              "      <td>122</td>\n",
              "      <td>120</td>\n",
              "      <td>80</td>\n",
              "      <td>1</td>\n",
              "      <td>False</td>\n",
              "    </tr>\n",
              "    <tr>\n",
              "      <th>4</th>\n",
              "      <td>4</td>\n",
              "      <td>Charmander</td>\n",
              "      <td>Fire</td>\n",
              "      <td>NaN</td>\n",
              "      <td>309</td>\n",
              "      <td>39</td>\n",
              "      <td>52</td>\n",
              "      <td>43</td>\n",
              "      <td>60</td>\n",
              "      <td>50</td>\n",
              "      <td>65</td>\n",
              "      <td>1</td>\n",
              "      <td>False</td>\n",
              "    </tr>\n",
              "  </tbody>\n",
              "</table>\n",
              "</div>\n",
              "    <div class=\"colab-df-buttons\">\n",
              "\n",
              "  <div class=\"colab-df-container\">\n",
              "    <button class=\"colab-df-convert\" onclick=\"convertToInteractive('df-f9a83264-4482-4c7a-8058-848530da8add')\"\n",
              "            title=\"Convert this dataframe to an interactive table.\"\n",
              "            style=\"display:none;\">\n",
              "\n",
              "  <svg xmlns=\"http://www.w3.org/2000/svg\" height=\"24px\" viewBox=\"0 -960 960 960\">\n",
              "    <path d=\"M120-120v-720h720v720H120Zm60-500h600v-160H180v160Zm220 220h160v-160H400v160Zm0 220h160v-160H400v160ZM180-400h160v-160H180v160Zm440 0h160v-160H620v160ZM180-180h160v-160H180v160Zm440 0h160v-160H620v160Z\"/>\n",
              "  </svg>\n",
              "    </button>\n",
              "\n",
              "  <style>\n",
              "    .colab-df-container {\n",
              "      display:flex;\n",
              "      gap: 12px;\n",
              "    }\n",
              "\n",
              "    .colab-df-convert {\n",
              "      background-color: #E8F0FE;\n",
              "      border: none;\n",
              "      border-radius: 50%;\n",
              "      cursor: pointer;\n",
              "      display: none;\n",
              "      fill: #1967D2;\n",
              "      height: 32px;\n",
              "      padding: 0 0 0 0;\n",
              "      width: 32px;\n",
              "    }\n",
              "\n",
              "    .colab-df-convert:hover {\n",
              "      background-color: #E2EBFA;\n",
              "      box-shadow: 0px 1px 2px rgba(60, 64, 67, 0.3), 0px 1px 3px 1px rgba(60, 64, 67, 0.15);\n",
              "      fill: #174EA6;\n",
              "    }\n",
              "\n",
              "    .colab-df-buttons div {\n",
              "      margin-bottom: 4px;\n",
              "    }\n",
              "\n",
              "    [theme=dark] .colab-df-convert {\n",
              "      background-color: #3B4455;\n",
              "      fill: #D2E3FC;\n",
              "    }\n",
              "\n",
              "    [theme=dark] .colab-df-convert:hover {\n",
              "      background-color: #434B5C;\n",
              "      box-shadow: 0px 1px 3px 1px rgba(0, 0, 0, 0.15);\n",
              "      filter: drop-shadow(0px 1px 2px rgba(0, 0, 0, 0.3));\n",
              "      fill: #FFFFFF;\n",
              "    }\n",
              "  </style>\n",
              "\n",
              "    <script>\n",
              "      const buttonEl =\n",
              "        document.querySelector('#df-f9a83264-4482-4c7a-8058-848530da8add button.colab-df-convert');\n",
              "      buttonEl.style.display =\n",
              "        google.colab.kernel.accessAllowed ? 'block' : 'none';\n",
              "\n",
              "      async function convertToInteractive(key) {\n",
              "        const element = document.querySelector('#df-f9a83264-4482-4c7a-8058-848530da8add');\n",
              "        const dataTable =\n",
              "          await google.colab.kernel.invokeFunction('convertToInteractive',\n",
              "                                                    [key], {});\n",
              "        if (!dataTable) return;\n",
              "\n",
              "        const docLinkHtml = 'Like what you see? Visit the ' +\n",
              "          '<a target=\"_blank\" href=https://colab.research.google.com/notebooks/data_table.ipynb>data table notebook</a>'\n",
              "          + ' to learn more about interactive tables.';\n",
              "        element.innerHTML = '';\n",
              "        dataTable['output_type'] = 'display_data';\n",
              "        await google.colab.output.renderOutput(dataTable, element);\n",
              "        const docLink = document.createElement('div');\n",
              "        docLink.innerHTML = docLinkHtml;\n",
              "        element.appendChild(docLink);\n",
              "      }\n",
              "    </script>\n",
              "  </div>\n",
              "\n",
              "\n",
              "<div id=\"df-f9aa3a8a-2e41-42fe-8454-ad433916492f\">\n",
              "  <button class=\"colab-df-quickchart\" onclick=\"quickchart('df-f9aa3a8a-2e41-42fe-8454-ad433916492f')\"\n",
              "            title=\"Suggest charts\"\n",
              "            style=\"display:none;\">\n",
              "\n",
              "<svg xmlns=\"http://www.w3.org/2000/svg\" height=\"24px\"viewBox=\"0 0 24 24\"\n",
              "     width=\"24px\">\n",
              "    <g>\n",
              "        <path d=\"M19 3H5c-1.1 0-2 .9-2 2v14c0 1.1.9 2 2 2h14c1.1 0 2-.9 2-2V5c0-1.1-.9-2-2-2zM9 17H7v-7h2v7zm4 0h-2V7h2v10zm4 0h-2v-4h2v4z\"/>\n",
              "    </g>\n",
              "</svg>\n",
              "  </button>\n",
              "\n",
              "<style>\n",
              "  .colab-df-quickchart {\n",
              "      --bg-color: #E8F0FE;\n",
              "      --fill-color: #1967D2;\n",
              "      --hover-bg-color: #E2EBFA;\n",
              "      --hover-fill-color: #174EA6;\n",
              "      --disabled-fill-color: #AAA;\n",
              "      --disabled-bg-color: #DDD;\n",
              "  }\n",
              "\n",
              "  [theme=dark] .colab-df-quickchart {\n",
              "      --bg-color: #3B4455;\n",
              "      --fill-color: #D2E3FC;\n",
              "      --hover-bg-color: #434B5C;\n",
              "      --hover-fill-color: #FFFFFF;\n",
              "      --disabled-bg-color: #3B4455;\n",
              "      --disabled-fill-color: #666;\n",
              "  }\n",
              "\n",
              "  .colab-df-quickchart {\n",
              "    background-color: var(--bg-color);\n",
              "    border: none;\n",
              "    border-radius: 50%;\n",
              "    cursor: pointer;\n",
              "    display: none;\n",
              "    fill: var(--fill-color);\n",
              "    height: 32px;\n",
              "    padding: 0;\n",
              "    width: 32px;\n",
              "  }\n",
              "\n",
              "  .colab-df-quickchart:hover {\n",
              "    background-color: var(--hover-bg-color);\n",
              "    box-shadow: 0 1px 2px rgba(60, 64, 67, 0.3), 0 1px 3px 1px rgba(60, 64, 67, 0.15);\n",
              "    fill: var(--button-hover-fill-color);\n",
              "  }\n",
              "\n",
              "  .colab-df-quickchart-complete:disabled,\n",
              "  .colab-df-quickchart-complete:disabled:hover {\n",
              "    background-color: var(--disabled-bg-color);\n",
              "    fill: var(--disabled-fill-color);\n",
              "    box-shadow: none;\n",
              "  }\n",
              "\n",
              "  .colab-df-spinner {\n",
              "    border: 2px solid var(--fill-color);\n",
              "    border-color: transparent;\n",
              "    border-bottom-color: var(--fill-color);\n",
              "    animation:\n",
              "      spin 1s steps(1) infinite;\n",
              "  }\n",
              "\n",
              "  @keyframes spin {\n",
              "    0% {\n",
              "      border-color: transparent;\n",
              "      border-bottom-color: var(--fill-color);\n",
              "      border-left-color: var(--fill-color);\n",
              "    }\n",
              "    20% {\n",
              "      border-color: transparent;\n",
              "      border-left-color: var(--fill-color);\n",
              "      border-top-color: var(--fill-color);\n",
              "    }\n",
              "    30% {\n",
              "      border-color: transparent;\n",
              "      border-left-color: var(--fill-color);\n",
              "      border-top-color: var(--fill-color);\n",
              "      border-right-color: var(--fill-color);\n",
              "    }\n",
              "    40% {\n",
              "      border-color: transparent;\n",
              "      border-right-color: var(--fill-color);\n",
              "      border-top-color: var(--fill-color);\n",
              "    }\n",
              "    60% {\n",
              "      border-color: transparent;\n",
              "      border-right-color: var(--fill-color);\n",
              "    }\n",
              "    80% {\n",
              "      border-color: transparent;\n",
              "      border-right-color: var(--fill-color);\n",
              "      border-bottom-color: var(--fill-color);\n",
              "    }\n",
              "    90% {\n",
              "      border-color: transparent;\n",
              "      border-bottom-color: var(--fill-color);\n",
              "    }\n",
              "  }\n",
              "</style>\n",
              "\n",
              "  <script>\n",
              "    async function quickchart(key) {\n",
              "      const quickchartButtonEl =\n",
              "        document.querySelector('#' + key + ' button');\n",
              "      quickchartButtonEl.disabled = true;  // To prevent multiple clicks.\n",
              "      quickchartButtonEl.classList.add('colab-df-spinner');\n",
              "      try {\n",
              "        const charts = await google.colab.kernel.invokeFunction(\n",
              "            'suggestCharts', [key], {});\n",
              "      } catch (error) {\n",
              "        console.error('Error during call to suggestCharts:', error);\n",
              "      }\n",
              "      quickchartButtonEl.classList.remove('colab-df-spinner');\n",
              "      quickchartButtonEl.classList.add('colab-df-quickchart-complete');\n",
              "    }\n",
              "    (() => {\n",
              "      let quickchartButtonEl =\n",
              "        document.querySelector('#df-f9aa3a8a-2e41-42fe-8454-ad433916492f button');\n",
              "      quickchartButtonEl.style.display =\n",
              "        google.colab.kernel.accessAllowed ? 'block' : 'none';\n",
              "    })();\n",
              "  </script>\n",
              "</div>\n",
              "    </div>\n",
              "  </div>\n"
            ]
          },
          "metadata": {},
          "execution_count": 2
        }
      ],
      "source": [
        "# Your code here:\n",
        "pokemon = pd.read_csv('Pokemon.csv')\n",
        "\n",
        "pokemon.head()"
      ]
    },
    {
      "cell_type": "markdown",
      "metadata": {
        "id": "EQKOatI2s9L2"
      },
      "source": [
        "#### First we want to define a function with which we can test the means of a feature set of two samples.\n",
        "\n",
        "In the next cell you'll see the annotations of the Python function that explains what this function does and its arguments and returned value. This type of annotation is called **docstring** which is a convention used among Python developers. The docstring convention allows developers to write consistent tech documentations for their codes so that others can read. It also allows some websites to automatically parse the docstrings and display user-friendly documentations.\n",
        "\n",
        "Follow the specifications of the docstring and complete the function."
      ]
    },
    {
      "cell_type": "code",
      "execution_count": 3,
      "metadata": {
        "id": "rMQcPF4hs9L2"
      },
      "outputs": [],
      "source": [
        "def t_test_features(s1, s2, features=['HP', 'Attack', 'Defense', 'Sp. Atk', 'Sp. Def', 'Speed', 'Total']):\n",
        "    \"\"\"Test means of a feature set of two samples\n",
        "\n",
        "    Args:\n",
        "        s1 (dataframe): sample 1\n",
        "        s2 (dataframe): sample 2\n",
        "        features (list): an array of features to test\n",
        "\n",
        "    Returns:\n",
        "        dict: a dictionary of t-test scores for each feature where the feature name is the key and the p-value is the value\n",
        "    \"\"\"\n",
        "    results = {}\n",
        "\n",
        "    # Your code here\n",
        "\n",
        "    for feature in features:\n",
        "        # Perform independent two-sample t-test for each feature\n",
        "        t_stat, p_value = ttest_ind(s1[feature], s2[feature], equal_var=False)\n",
        "        results[feature] = p_value\n",
        "\n",
        "    return results"
      ]
    },
    {
      "cell_type": "markdown",
      "metadata": {
        "id": "wuRaZpvss9L3"
      },
      "source": [
        "#### Using the `t_test_features` function, conduct t-test for Lengendary vs non-Legendary pokemons.\n",
        "\n",
        "*Hint: your output should look like below:*\n",
        "\n",
        "```\n",
        "{'HP': 1.0026911708035284e-13,\n",
        " 'Attack': 2.520372449236646e-16,\n",
        " 'Defense': 4.8269984949193316e-11,\n",
        " 'Sp. Atk': 1.5514614112239812e-21,\n",
        " 'Sp. Def': 2.2949327864052826e-15,\n",
        " 'Speed': 1.049016311882451e-18,\n",
        " 'Total': 9.357954335957446e-47}\n",
        " ```"
      ]
    },
    {
      "cell_type": "code",
      "execution_count": 4,
      "metadata": {
        "colab": {
          "base_uri": "https://localhost:8080/"
        },
        "id": "_prlo3eys9L4",
        "outputId": "60f61b8b-d6ca-4143-d409-8ca24377b29c"
      },
      "outputs": [
        {
          "output_type": "execute_result",
          "data": {
            "text/plain": [
              "{'HP': '1.0026911708035284e-13',\n",
              " 'Attack': '2.520372449236646e-16',\n",
              " 'Defense': '4.8269984949193316e-11',\n",
              " 'Sp. Atk': '1.5514614112239812e-21',\n",
              " 'Sp. Def': '2.2949327864052826e-15',\n",
              " 'Speed': '1.049016311882451e-18',\n",
              " 'Total': '9.357954335957446e-47'}"
            ]
          },
          "metadata": {},
          "execution_count": 4
        }
      ],
      "source": [
        "# Your code here\n",
        "\n",
        "from scipy.stats import ttest_ind\n",
        "\n",
        "\n",
        "pokemon_data_legendary = pokemon[pokemon['Legendary'] == True]\n",
        "pokemon_data_non_legendary = pokemon[pokemon['Legendary'] == False]\n",
        "\n",
        "\n",
        "# Conduct t-tests for Legendary vs. non-Legendary Pokémon\n",
        "t_test_results = t_test_features(pokemon_data_legendary, pokemon_data_non_legendary)\n",
        "\n",
        "# Display the results in the specified format\n",
        "formatted_results = {feature: f\"{p_value}\" for feature, p_value in t_test_results.items()}\n",
        "formatted_results\n",
        "\n"
      ]
    },
    {
      "cell_type": "markdown",
      "metadata": {
        "id": "cUqX3hpMs9L5"
      },
      "source": [
        "#### From the test results above, what conclusion can you make? Do Legendary and non-Legendary pokemons have significantly different stats on each feature?"
      ]
    },
    {
      "cell_type": "code",
      "execution_count": 5,
      "metadata": {
        "colab": {
          "base_uri": "https://localhost:8080/",
          "height": 72
        },
        "id": "ND_bXtjUs9L5",
        "outputId": "a61c9e10-8649-4b95-8b1c-c188d059a242"
      },
      "outputs": [
        {
          "output_type": "execute_result",
          "data": {
            "text/plain": [
              "'For each feature (HP, Attack, Defense, Sp. Atk, Sp. Def, Speed, Total), the p-value is very close to zero.\\n\\nWith a common significance level of 0.05, you would reject the null hypothesis for each feature.\\n\\nThe evidence suggests that there are significant differences in the stats between Legendary and non-Legendary Pokémon for all tested features'"
            ],
            "application/vnd.google.colaboratory.intrinsic+json": {
              "type": "string"
            }
          },
          "metadata": {},
          "execution_count": 5
        }
      ],
      "source": [
        "# Your comment here\n",
        "\n",
        "\"\"\"For each feature (HP, Attack, Defense, Sp. Atk, Sp. Def, Speed, Total), the p-value is very close to zero.\n",
        "\n",
        "With a common significance level of 0.05, you would reject the null hypothesis for each feature.\n",
        "\n",
        "The evidence suggests that there are significant differences in the stats between Legendary and non-Legendary Pokémon for all tested features\"\"\""
      ]
    },
    {
      "cell_type": "markdown",
      "metadata": {
        "id": "jE5qRtGjs9L6"
      },
      "source": [
        "#### Next, conduct t-test for Generation 1 and Generation 2 pokemons."
      ]
    },
    {
      "cell_type": "code",
      "execution_count": 12,
      "metadata": {
        "colab": {
          "base_uri": "https://localhost:8080/"
        },
        "id": "N7F1Nbd5s9L6",
        "outputId": "6908488d-38c4-4c27-819d-502bfed710f4"
      },
      "outputs": [
        {
          "output_type": "execute_result",
          "data": {
            "text/plain": [
              "{'HP': '0.14551697834219623',\n",
              " 'Attack': '0.24721958967217725',\n",
              " 'Defense': '0.5677711011725426',\n",
              " 'Sp. Atk': '0.12332165977104388',\n",
              " 'Sp. Def': '0.18829872292645752',\n",
              " 'Speed': '0.00239265937312135',\n",
              " 'Total': '0.5631377907941676'}"
            ]
          },
          "metadata": {},
          "execution_count": 12
        }
      ],
      "source": [
        "# Your code here\n",
        "\n",
        "pokemon_generation_1 = pokemon[pokemon['Generation'] == 1]\n",
        "pokemon_generation_2 = pokemon[pokemon['Generation'] == 2]\n",
        "\n",
        "\n",
        "# Conduct t-tests for Legendary vs. non-Legendary Pokémon\n",
        "t_test_results = t_test_features(pokemon_generation_1, pokemon_generation_2)\n",
        "\n",
        "# Display the results in the specified format\n",
        "formatted_results = {feature: f\"{p_value}\" for feature, p_value in t_test_results.items()}\n",
        "formatted_results\n"
      ]
    },
    {
      "cell_type": "markdown",
      "metadata": {
        "id": "8I_0hkW2s9L7"
      },
      "source": [
        "#### What conclusions can you make?"
      ]
    },
    {
      "cell_type": "code",
      "execution_count": 7,
      "metadata": {
        "id": "oaj5rm12s9L7"
      },
      "outputs": [],
      "source": [
        "# Your comment here\n",
        "\n",
        "\"\"\"In summary, there is statistical evidence to suggest a significant difference in Speed between Generation 1 and Generation 2.\n",
        " However, for the other features (HP, Attack, Defense, Sp. Atk, Sp. Def, Total), there is not enough evidence to conclude a significant difference.\"\"\""
      ]
    },
    {
      "cell_type": "markdown",
      "metadata": {
        "id": "1cL49vk6s9L7"
      },
      "source": [
        "#### Compare pokemons who have single type vs those having two types."
      ]
    },
    {
      "cell_type": "code",
      "execution_count": 13,
      "metadata": {
        "colab": {
          "base_uri": "https://localhost:8080/"
        },
        "id": "nQQG_qBks9L8",
        "outputId": "fcf79590-b3bf-4e6a-a85a-9255803819be"
      },
      "outputs": [
        {
          "output_type": "execute_result",
          "data": {
            "text/plain": [
              "{'HP': '0.11314389855379414',\n",
              " 'Attack': '0.00014932578145948305',\n",
              " 'Defense': '2.7978540411514693e-08',\n",
              " 'Sp. Atk': '0.00013876216585667907',\n",
              " 'Sp. Def': '0.00010730610934512779',\n",
              " 'Speed': '0.02421703281819093',\n",
              " 'Total': '1.1157056505229961e-07'}"
            ]
          },
          "metadata": {},
          "execution_count": 13
        }
      ],
      "source": [
        "# Your code here\n",
        "\n",
        "pokemon_single_type = pokemon[pokemon['Type 2'].isnull()]\n",
        "pokemon_dual_type = pokemon[pokemon['Type 2'].notnull()]\n",
        "\n",
        "\n",
        "# Conduct t-tests for Legendary vs. non-Legendary Pokémon\n",
        "t_test_results = t_test_features(pokemon_single_type, pokemon_dual_type)\n",
        "\n",
        "# Display the results in the specified format\n",
        "formatted_results = {feature: f\"{p_value}\" for feature, p_value in t_test_results.items()}\n",
        "formatted_results\n"
      ]
    },
    {
      "cell_type": "markdown",
      "metadata": {
        "id": "nQH58lxws9L8"
      },
      "source": [
        "#### What conclusions can you make?"
      ]
    },
    {
      "cell_type": "code",
      "execution_count": 9,
      "metadata": {
        "id": "jfcvm6NXs9L8"
      },
      "outputs": [],
      "source": [
        "# Your comment here\n",
        "\n",
        "\"\"\"For all tested features (Attack, Defense, Sp. Atk, Sp. Def, Speed, Total), there is statistical evidence to suggest significant differences between Pokémon with a single type and those with two types.\n",
        "   However, for HP, there is no significant difference between the two groups. \"\"\""
      ]
    },
    {
      "cell_type": "markdown",
      "metadata": {
        "id": "Z1i9CWggs9L8"
      },
      "source": [
        "#### Now, we want to compare whether there are significant differences of `Attack` vs `Defense`  and  `Sp. Atk` vs `Sp. Def` of all pokemons. Please write your code below.\n",
        "\n",
        "*Hint: are you comparing different populations or the same population?*"
      ]
    },
    {
      "cell_type": "code",
      "execution_count": 14,
      "metadata": {
        "colab": {
          "base_uri": "https://localhost:8080/"
        },
        "id": "nWmOsOMTs9L9",
        "outputId": "c97f69de-f2f7-46c8-c0ec-d3488fa4f0c7"
      },
      "outputs": [
        {
          "output_type": "stream",
          "name": "stdout",
          "text": [
            "Paired t-test for Attack vs. Defense:\n",
            "t-statistic: 4.325566393330478\n",
            "p-value: 1.7140303479358558e-05\n",
            "\n",
            "Paired t-test for Sp. Atk vs. Sp. Def:\n",
            "t-statistic: 0.853986188453353\n",
            "p-value: 0.3933685997548122\n"
          ]
        }
      ],
      "source": [
        "# Your code here\n",
        "\n",
        "\n",
        "from scipy.stats import ttest_rel\n",
        "\n",
        "# Conduct paired t-test for Attack vs. Defense\n",
        "t_stat_attack_defense, p_value_attack_defense = ttest_rel(pokemon['Attack'], pokemon['Defense'])\n",
        "\n",
        "# Conduct paired t-test for Sp. Atk vs. Sp. Def\n",
        "t_stat_sp_atk_sp_def, p_value_sp_atk_sp_def = ttest_rel(pokemon['Sp. Atk'], pokemon['Sp. Def'])\n",
        "\n",
        "# Display the results\n",
        "print(f\"Paired t-test for Attack vs. Defense:\")\n",
        "print(f\"t-statistic: {t_stat_attack_defense}\")\n",
        "print(f\"p-value: {p_value_attack_defense}\")\n",
        "print()\n",
        "\n",
        "print(f\"Paired t-test for Sp. Atk vs. Sp. Def:\")\n",
        "print(f\"t-statistic: {t_stat_sp_atk_sp_def}\")\n",
        "print(f\"p-value: {p_value_sp_atk_sp_def}\")\n",
        "\n",
        "\n",
        "\n"
      ]
    },
    {
      "cell_type": "markdown",
      "metadata": {
        "id": "gAxNRLgYs9L9"
      },
      "source": [
        "#### What conclusions can you make?"
      ]
    },
    {
      "cell_type": "code",
      "execution_count": 11,
      "metadata": {
        "id": "PGReqzIJs9L9"
      },
      "outputs": [],
      "source": [
        "# Your comment here\n",
        "\n",
        " \"\"\" There is statistical evidence to suggest a significant difference between Attack and Defense stats,\n",
        "  but no significant difference between Special Attack and Special Defense stats for Pokémon in the dataset.\"\"\""
      ]
    }
  ],
  "metadata": {
    "kernelspec": {
      "display_name": "Python 3",
      "language": "python",
      "name": "python3"
    },
    "language_info": {
      "codemirror_mode": {
        "name": "ipython",
        "version": 3
      },
      "file_extension": ".py",
      "mimetype": "text/x-python",
      "name": "python",
      "nbconvert_exporter": "python",
      "pygments_lexer": "ipython3",
      "version": "3.7.3"
    },
    "colab": {
      "provenance": []
    }
  },
  "nbformat": 4,
  "nbformat_minor": 0
}